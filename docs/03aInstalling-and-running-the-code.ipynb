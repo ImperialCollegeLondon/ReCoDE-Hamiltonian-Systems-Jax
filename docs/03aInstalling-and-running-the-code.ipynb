{
 "cells": [
  {
   "cell_type": "markdown",
   "id": "49783201-c68e-49a3-9136-85c41abfd044",
   "metadata": {},
   "source": [
    "# Installing and running the code\n",
    "\n",
    "## System requirements\n",
    "\n",
    "Package requiements can be found in the `requirements.txt` file.\n",
    "\n",
    "Can be installed separately using the command,\n",
    "\n",
    "```\n",
    "pip install -r requirements.txt\n",
    "```\n",
    "\n",
    "The code requires Python and JAX (only CPU suffices, optionally with GPU support). \n",
    "\n",
    "## Install\n",
    "\n",
    "To install this recode package `hdynamics`, we can simply clone the reposity and install with pip,\n",
    "```\n",
    "pip clone git@github.com:ImperialCollegeLondon/ReCoDE-Hamiltonian-Systems-Jax.git\n",
    "cd ReCoDE-Hamiltonian-Systems-Jax\n",
    "pip install .\n",
    "```\n",
    "\n",
    "We will discuss the individual components in the sections to come."
   ]
  },
  {
   "cell_type": "markdown",
   "id": "f421a9f3-d595-45c0-8edd-7a9d55ad9016",
   "metadata": {},
   "source": [
    "## Example run\n",
    "\n",
    "To check if the code has been installed correctly, we can try visualising the trajectory of an harmonic oscillator,"
   ]
  },
  {
   "cell_type": "code",
   "execution_count": 2,
   "id": "a016cb8c-123e-48c0-8016-11c38ee69a22",
   "metadata": {},
   "outputs": [
    {
     "name": "stdout",
     "output_type": "stream",
     "text": [
      "Loaded dataset: data_None_ntrajectories=1_steps=20_stepsize=0.1_seed=100\n"
     ]
    },
    {
     "data": {
      "image/png": "[encoded data removed]",
      "text/plain": [
       "<Figure size 640x480 with 1 Axes>"
      ]
     },
     "metadata": {},
     "output_type": "display_data"
    }
   ],
   "source": [
    "import jax.numpy as jnp\n",
    "\n",
    "from hdynamics.dynamics import Nbody\n",
    "from hdynamics.data import generate_dataset\n",
    "\n",
    "import matplotlib.pyplot as plt\n",
    "\n",
    "dynamics = Nbody(dim=2, n_bodies=4)\n",
    "\n",
    "trajectories, t_span = generate_dataset(dynamics, n_trajectories=1, n_steps=20, stepsize=0.1)\n",
    "\n",
    "fig = plt.figure()\n",
    "ax = fig.add_subplot(111)\n",
    "\n",
    "dynamics.plot_trajectory(trajectories[0], t_span, ax)"
   ]
  },
  {
   "cell_type": "code",
   "execution_count": null,
   "id": "31695b8d-d980-4fcb-acd5-24e3b62daa4f",
   "metadata": {},
   "outputs": [],
   "source": []
  }
 ],
 "metadata": {
  "kernelspec": {
   "display_name": "Python 3 (ipykernel)",
   "language": "python",
   "name": "python3"
  },
  "language_info": {
   "codemirror_mode": {
    "name": "ipython",
    "version": 3
   },
   "file_extension": ".py",
   "mimetype": "text/x-python",
   "name": "python",
   "nbconvert_exporter": "python",
   "pygments_lexer": "ipython3",
   "version": "3.11.7"
  }
 },
 "nbformat": 4,
 "nbformat_minor": 5
}
