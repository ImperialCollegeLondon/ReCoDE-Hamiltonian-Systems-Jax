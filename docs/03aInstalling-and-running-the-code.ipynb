{
 "cells": [
  {
   "cell_type": "markdown",
   "id": "49783201-c68e-49a3-9136-85c41abfd044",
   "metadata": {},
   "source": [
    "# Installing and running the code\n",
    "\n",
    "## System requirements\n",
    "\n",
    "The code requires Python and JAX (only CPU suffices, optionally with GPU support).\n",
    "\n",
    "If you are installing the code on a Windows machine, you will need to first install the Microsoft Visual C++ Build Tools. You can find the installer [here](https://visualstudio.microsoft.com/visual-cpp-build-tools/). If prompted, select \"Desktop development with C++\" and install the required components.\n",
    "\n",
    "## Installation\n",
    "\n",
    "If you want to run the code in the project only, you can install the required packages from the `pyproject.toml` file using the following command:\n",
    "\n",
    "```bash\n",
    "pip install -e .\n",
    "```\n",
    "\n",
    "If you want to develop the code, you can install the required packages from the `pyproject.toml` file using the following command:\n",
    "\n",
    "```bash\n",
    "pip install -e .[dev]\n",
    "```\n",
    "\n",
    "We will discuss the individual components in the sections to come."
   ]
  },
  {
   "cell_type": "markdown",
   "id": "f421a9f3-d595-45c0-8edd-7a9d55ad9016",
   "metadata": {},
   "source": [
    "## Example run\n",
    "\n",
    "To check if the code has been installed correctly, we can try visualising the trajectory of an three-body system:"
   ]
  },
  {
   "cell_type": "code",
   "execution_count": null,
   "id": "a016cb8c-123e-48c0-8016-11c38ee69a22",
   "metadata": {},
   "outputs": [
    {
     "name": "stdout",
     "output_type": "stream",
     "text": [
      "Loaded dataset: data_None_ntrajectories=1_steps=20_stepsize=0.1_seed=100\n"
     ]
    },
    {
     "data": {
      "image/png": "[encoded data removed]",
      "text/plain": [
       "<Figure size 640x480 with 1 Axes>"
      ]
     },
     "metadata": {},
     "output_type": "display_data"
    }
   ],
   "source": [
    "import matplotlib.pyplot as plt\n",
    "from hdynamics.data import generate_dataset\n",
    "from hdynamics.dynamics import Nbody\n",
    "\n",
    "dynamics = Nbody(dim=2, n_bodies=4)\n",
    "\n",
    "trajectories, t_span = generate_dataset(dynamics, n_trajectories=1, n_steps=20, stepsize=0.1)\n",
    "\n",
    "fig = plt.figure()\n",
    "ax = fig.add_subplot(111)\n",
    "\n",
    "dynamics.plot_trajectory(trajectories[0], t_span, ax)"
   ]
  }
 ],
 "metadata": {
  "kernelspec": {
   "display_name": ".venv",
   "language": "python",
   "name": "python3"
  },
  "language_info": {
   "codemirror_mode": {
    "name": "ipython",
    "version": 3
   },
   "file_extension": ".py",
   "mimetype": "text/x-python",
   "name": "python",
   "nbconvert_exporter": "python",
   "pygments_lexer": "ipython3",
   "version": "3.13.3"
  }
 },
 "nbformat": 4,
 "nbformat_minor": 5
}
