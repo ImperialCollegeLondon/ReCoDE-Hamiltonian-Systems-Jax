{
 "cells": [
  {
   "cell_type": "markdown",
   "id": "49783201-c68e-49a3-9136-85c41abfd044",
   "metadata": {},
   "source": [
    "# An introduction to Hamiltonian systems"
   ]
  },
  {
   "cell_type": "markdown",
   "id": "f421a9f3-d595-45c0-8edd-7a9d55ad9016",
   "metadata": {},
   "source": [
    "Hamiltonian systems are a class of dynamical systems governed by the Hamiltonian function, which represents the total energy of the system—kinetic and potential energy. These systems are a cornerstone of theoretical physics and are essential for understanding mechanics, astrophysics, and quantum mechanics.\n",
    "\n",
    "## 1. Definition of a Hamiltonian System\n",
    "\n",
    "A Hamiltonian system can be defined on a symplectic manifold, where the state of the system is described by coordinates $(q_1, \\ldots, q_n, p_1, \\ldots, p_n)$. Here $q_i$ are the generalized coordinates and $p_i$ are the conjugate momenta.\n",
    "\n",
    "### The Hamiltonian Function\n",
    "\n",
    "The Hamiltonian $H$ is a function, usually representing the total energy of the system:\n",
    "\n",
    "$$\n",
    "H = T + V\n",
    "$$\n",
    "\n",
    "where $T$ is the kinetic energy and $V$ is the potential energy.\n",
    "\n",
    "### Properties\n",
    "\n",
    "- **Time Reversal Symmetry**: If the system evolves forward in time, then reversing the direction of time will return the system to its initial state.\n",
    "- **Conservation of Energy**: The total energy (Hamiltonian) is conserved if $H$ does not explicitly depend on time.\n",
    "\n",
    "## 2. Hamilton's Equations\n",
    "\n",
    "Hamilton's equations describe the time evolution of the system and are given by:\n",
    "\n",
    "$ \\dot{q}_i = \\frac{\\partial H}{\\partial p_i} $\n",
    "$ \\dot{p}_i = -\\frac{\\partial H}{\\partial q_i} $\n",
    "\n",
    "These equations ensure that the flow of the system in phase space is symplectic, preserving the symplectic structure of the manifold.\n"
   ]
  }
 ],
 "metadata": {
  "kernelspec": {
   "display_name": "Python 3 (ipykernel)",
   "language": "python",
   "name": "python3"
  },
  "language_info": {
   "codemirror_mode": {
    "name": "ipython",
    "version": 3
   },
   "file_extension": ".py",
   "mimetype": "text/x-python",
   "name": "python",
   "nbconvert_exporter": "python",
   "pygments_lexer": "ipython3",
   "version": "3.11.7"
  }
 },
 "nbformat": 4,
 "nbformat_minor": 5
}
