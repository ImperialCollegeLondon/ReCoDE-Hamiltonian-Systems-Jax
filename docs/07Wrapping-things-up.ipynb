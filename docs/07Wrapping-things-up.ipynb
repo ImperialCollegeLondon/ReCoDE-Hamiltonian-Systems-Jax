{
 "cells": [
  {
   "cell_type": "markdown",
   "id": "49783201-c68e-49a3-9136-85c41abfd044",
   "metadata": {},
   "source": [
    "# Wrapping things up"
   ]
  },
  {
   "cell_type": "markdown",
   "id": "99208b1f-2ce7-4d14-b09e-cf0de86ae526",
   "metadata": {},
   "source": [
    "I hope you enjoyed this ReCoDE. ;-)"
   ]
  }
 ],
 "metadata": {
  "kernelspec": {
   "display_name": "Python 3 (ipykernel)",
   "language": "python",
   "name": "python3"
  },
  "language_info": {
   "codemirror_mode": {
    "name": "ipython",
    "version": 3
   },
   "file_extension": ".py",
   "mimetype": "text/x-python",
   "name": "python",
   "nbconvert_exporter": "python",
   "pygments_lexer": "ipython3",
   "version": "3.11.7"
  }
 },
 "nbformat": 4,
 "nbformat_minor": 5
}
