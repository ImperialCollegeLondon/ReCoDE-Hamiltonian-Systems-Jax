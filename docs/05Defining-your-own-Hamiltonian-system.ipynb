{
 "cells": [
  {
   "cell_type": "markdown",
   "id": "49783201-c68e-49a3-9136-85c41abfd044",
   "metadata": {},
   "source": [
    "# Defining your own Hamiltonian system"
   ]
  },
  {
   "cell_type": "markdown",
   "id": "dc6e729e-a1f1-4370-ac9a-2ba1b66ea85b",
   "metadata": {},
   "source": [
    "One of the goals of this ReCoDE is being able to implement a new Hamiltonian systems. In our framework, this can be done by creating a new\n",
    "dynamical system class that inherits from the `Dynamics` class defined in `dynamics.py`. We will describe step-by-step how to define a new Hamiltonian system and will show how to implement the N-body system in the next chapter.\n",
    "\n",
    "\n",
    "#### Step 1. Creating a new dynamical systems file\n",
    "\n",
    "We start by creating a new file for our dynamical system `hdynamics/dynamics/[name].py`\n",
    "\n",
    "#### Step 2. Inherit Dynamics class\n",
    "\n",
    "We then create a new class by inheriting from `hdynamics.dynamics.Dynamics` class:\n",
    "\n",
    "```\n",
    "import jax.numpy as jnp\n",
    "\n",
    "from hdynamics.dynamics import Dynamics\n",
    "\n",
    "class MyHamiltonianSystem(Dynamics):\n",
    "    \"\"\" My new class that implements a dynamical system. \"\"\"\n",
    "    def __init__(self, dim):\n",
    "        cdim = dim\n",
    "        super().__init__(cdim)\n",
    "\n",
    "    def H(self, x):\n",
    "        pass\n",
    "\n",
    "    def plot_trajectory(self, trajectory, t_span, ax):\n",
    "        \"\"\"Plot trajectory within specified t_span range.\"\"\"\n",
    "        pass\n",
    "\n",
    "    def plot_H(self, ax):\n",
    "        \"\"\"Plot the Hamiltonian.\"\"\"\n",
    "        pass\n",
    "\n",
    "```\n",
    "\n",
    "#### Step 3. Define the Hamiltonian of the system in `self.H(x)`\n",
    "\n",
    "To implement the Hamiltonian, we simply define it as a function in `self.H(x)`.\n",
    "This is the only necessary thing to define for our dynamical system to be valid.\n",
    "\n",
    "#### Step 4 (optional). Define plot functions for trajectory and the Hamiltonian.\n",
    "\n",
    "Optionally, we can also create code that plots trajectories `self.plot_trajectory(self, trajectory, t_span, ax)` and phase space `self.plot_H(self, ax)`. Here, `ax` is a Matplotlib <a href=\"https://matplotlib.org/stable/api/axes_api.html\">Axes</a> object.\n",
    "\n",
    "#### Done.\n",
    "\n",
    "Now, we are done and we can perform simulations as described in pervious chapters simply by replacing the hamiltonian oscillator by our new class!\n",
    "\n",
    "# Next chapter\n",
    "In the next chapter <a href=\"../06N-body-problem/\">N-body problem</a>, we will see an example of implementing the N-body system and performing simulations and visualisations."
   ]
  }
 ],
 "metadata": {
  "kernelspec": {
   "display_name": "Python 3 (ipykernel)",
   "language": "python",
   "name": "python3"
  },
  "language_info": {
   "codemirror_mode": {
    "name": "ipython",
    "version": 3
   },
   "file_extension": ".py",
   "mimetype": "text/x-python",
   "name": "python",
   "nbconvert_exporter": "python",
   "pygments_lexer": "ipython3",
   "version": "3.11.7"
  }
 },
 "nbformat": 4,
 "nbformat_minor": 5
}
