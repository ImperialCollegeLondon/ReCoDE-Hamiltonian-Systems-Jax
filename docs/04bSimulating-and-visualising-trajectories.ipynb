{
 "cells": [
  {
   "cell_type": "markdown",
   "id": "49783201-c68e-49a3-9136-85c41abfd044",
   "metadata": {},
   "source": [
    "# Simulating and visualising trajectories\n",
    "\n",
    "In this chapter, we will discuss how to simulate and visualise a dynamical system. Before we dicuss how to implement specific dynamical systems, we will use a pre-existing implementation of the simple harmonic oscillator in `hdynamics/dynamics/harmonic_oscillator.py` to discuss how we can simulate and plot dynamical systems in our framework. In the next chapters, we will discuss how to implement a new dynamical system from scratch."
   ]
  },
  {
   "cell_type": "markdown",
   "id": "4f0950b1-50f1-4e5c-9e03-a8ac27659935",
   "metadata": {},
   "source": [
    "## Step 1. Importing a system\n",
    "\n",
    "First, we can import the `HarmonicOscillator` system defined in the `hdynamics/dynamics/harmonic_oscillator.py` and create a dynamical system object `harmonic_oscillator` as follows:"
   ]
  },
  {
   "cell_type": "code",
   "execution_count": 25,
   "id": "f3b8f71e",
   "metadata": {},
   "outputs": [],
   "source": [
    "from hdynamics.dynamics.harmonic_oscillator import HarmonicOscillator\n",
    "\n",
    "harmonic_oscillator = HarmonicOscillator()"
   ]
  },
  {
   "cell_type": "markdown",
   "id": "8f6b3c61-d2eb-46d6-8ac9-1c17eabe5502",
   "metadata": {},
   "source": [
    "## Step 2. Randomly sample initial condition\n",
    "\n",
    "We can create an initial condition by first creating a JAX random seed `key` and passing it to the dynamical system by running,"
   ]
  },
  {
   "cell_type": "code",
   "execution_count": 26,
   "id": "3ceaab41",
   "metadata": {},
   "outputs": [
    {
     "name": "stdout",
     "output_type": "stream",
     "text": [
      "Shape of initial condition:  (2, 1)\n"
     ]
    }
   ],
   "source": [
    "import jax.numpy as jnp\n",
    "x = jnp.array([[1.0], [0.0]])\n",
    "\n",
    "print(\"Shape of initial condition: \", x.shape)"
   ]
  },
  {
   "cell_type": "markdown",
   "id": "cdb22b43-6a99-4682-aa16-a05ef3afe583",
   "metadata": {},
   "source": [
    "## Step 3. Use JAX autodiff to obtain symplectic form\n",
    "\n",
    "Thanks to auto differentiation in JAX, we can obtain the gradient of the Hamiltonian `harmonic_oscillator.H()` using the `jax.grad` function and pass it to the `symplectic_form` defined in `utils.py` (please have a look!):"
   ]
  },
  {
   "cell_type": "code",
   "execution_count": 20,
   "id": "3194dba7",
   "metadata": {},
   "outputs": [],
   "source": [
    "from hdynamics.utils import symplectic_form\n",
    "\n",
    "jac_h = jax.grad(lambda x: harmonic_oscillator.H(x, eps=0))\n",
    "\n",
    "grad_x = lambda x, t: symplectic_form(jac_h(x))"
   ]
  },
  {
   "cell_type": "code",
   "execution_count": 21,
   "id": "5d9bca82",
   "metadata": {},
   "outputs": [
    {
     "name": "stdout",
     "output_type": "stream",
     "text": [
      "[1. 0.]\n"
     ]
    }
   ],
   "source": [
    "x_flat = x.reshape(-1)\n",
    "print(x_flat)"
   ]
  },
  {
   "cell_type": "markdown",
   "id": "33311972-d5d6-450f-8c5c-94802e5279f1",
   "metadata": {},
   "source": [
    "## Step 4. Generate trajectory\n",
    "\n",
    "Next, we can generate a trajectory by by passing the initial condition and the found trajectory gradient to ordinary differential equation solver `ode_int`:"
   ]
  },
  {
   "cell_type": "code",
   "execution_count": 22,
   "id": "0aa9ce36",
   "metadata": {},
   "outputs": [],
   "source": [
    "import jax.numpy as jnp\n",
    "\n",
    "from hdynamics.odeint import ode_int\n",
    "\n",
    "def generate_trajectory(grad_x, x_start, stepsize=0.04, n_steps=100):\n",
    "    t_start = 0.0\n",
    "    t_end = n_steps * stepsize\n",
    "\n",
    "    t_span = jnp.linspace(t_start, t_end, n_steps + 1)\n",
    "\n",
    "    solution = ode_int(grad_x, x_start, t_span)\n",
    "\n",
    "    return solution, t_span"
   ]
  },
  {
   "cell_type": "code",
   "execution_count": 23,
   "id": "731bea69",
   "metadata": {},
   "outputs": [
    {
     "name": "stdout",
     "output_type": "stream",
     "text": [
      "trajectory: (101, 2)\n"
     ]
    }
   ],
   "source": [
    "trajectory, t_span = generate_trajectory(grad_x, x_flat)\n",
    "print('trajectory:', trajectory.shape)"
   ]
  },
  {
   "cell_type": "markdown",
   "id": "151fe588-48c1-40f4-8feb-5bc2db4aeb18",
   "metadata": {},
   "source": [
    "## Step 5. Plotting trajectory\n",
    "\n",
    "Lastly, we can plot the trajectory of the dynamical system by calling the `plot_trajectory()` function and passing a matplotlib figure:"
   ]
  },
  {
   "cell_type": "code",
   "execution_count": 24,
   "id": "4371ee38",
   "metadata": {},
   "outputs": [
    {
     "data": {
      "image/png": "[encoded data removed]",
      "text/plain": [
       "<Figure size 640x480 with 1 Axes>"
      ]
     },
     "metadata": {},
     "output_type": "display_data"
    }
   ],
   "source": [
    "import matplotlib.pyplot as plt\n",
    "\n",
    "fig = plt.figure()\n",
    "ax = fig.add_subplot(111)\n",
    "\n",
    "harmonic_oscillator.plot_trajectory(trajectory, t_span, ax)"
   ]
  },
  {
   "cell_type": "markdown",
   "id": "98ae392d-74db-401b-8d71-f15fcb0e1b89",
   "metadata": {},
   "source": [
    "## We did it!\n",
    "\n",
    "Great, we did it! We obtain a sinusoidal wave, the correct solution to the harmonic oscillator."
   ]
  }
 ],
 "metadata": {
  "kernelspec": {
   "display_name": "Python 3 (ipykernel)",
   "language": "python",
   "name": "python3"
  },
  "language_info": {
   "codemirror_mode": {
    "name": "ipython",
    "version": 3
   },
   "file_extension": ".py",
   "mimetype": "text/x-python",
   "name": "python",
   "nbconvert_exporter": "python",
   "pygments_lexer": "ipython3",
   "version": "3.11.7"
  }
 },
 "nbformat": 4,
 "nbformat_minor": 5
}
