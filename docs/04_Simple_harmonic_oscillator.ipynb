{
 "cells": [
  {
   "cell_type": "markdown",
   "id": "49783201-c68e-49a3-9136-85c41abfd044",
   "metadata": {},
   "source": [
    "# Simple Harmonic Oscillator\n",
    "\n",
    "In this chapter, we will discuss how to simulate and visualise a dynamical system. To do this, we will utilise a pre-existing implementation of the simple harmonic oscillator in `hdynamics/dynamics/harmonic_oscillator.py` to discuss how we can simulate and plot dynamical systems in our framework.\n",
    "\n",
    "## Simple Harmonic Oscillator Hamiltonian\n",
    "\n",
    "For a mass $m$ attached to a spring with spring constant $k$, and ignoring damping, the Hamiltonian is:\n",
    "\n",
    "$$\n",
    "H = \\frac{p^2}{2m} + \\frac{1}{2} k q^2\n",
    "$$\n",
    "\n",
    "The resulting Hamilton's equations are:\n",
    "\n",
    "$$\n",
    "\\dot{q} = \\frac{p}{m}\n",
    "\\dot{p} = -kq \n",
    "$$\n",
    "\n",
    "## Implementing the Hamiltonian\n",
    "\n",
    "The Hamiltonian is implemented in `hdynamics/dynamics/harmonic_oscillator.py` as follows. In this file we create a class `HarmonicOscillator` that inherits from the abstract class `Dynamics` defined in `hdynamics/dynamics/hdynamics.py`. This class implements the Hamiltonian method `H`, allowing the class to be instantiated and used to simulate the dynamics of the harmonic oscillator.\n",
    "\n",
    "It also contains the methods `plot_trajectory`, `plot_phase_energy`, and `plot_phase_trajectories` which allow the specific dynamical system of a harmonic oscillator to be visualised."
   ]
  },
  {
   "cell_type": "markdown",
   "id": "4f0950b1-50f1-4e5c-9e03-a8ac27659935",
   "metadata": {},
   "source": [
    "## Importing The Harmonic Oscillator\n",
    "\n",
    "First, we can import the `HarmonicOscillator` system defined in the `hdynamics/dynamics/harmonic_oscillator.py` and create a dynamical system object `harmonic_oscillator` as follows:"
   ]
  },
  {
   "cell_type": "code",
   "execution_count": 2,
   "id": "f3b8f71e",
   "metadata": {},
   "outputs": [],
   "source": [
    "from hdynamics.dynamics.harmonic_oscillator import HarmonicOscillator\n",
    "\n",
    "harmonic_oscillator = HarmonicOscillator()"
   ]
  },
  {
   "cell_type": "markdown",
   "id": "8f6b3c61-d2eb-46d6-8ac9-1c17eabe5502",
   "metadata": {},
   "source": [
    "## Create an Initial Condition\n",
    "\n",
    "We can create an initial condition for the system with an initial position of $1$ and an initial momentum of $0$ as follows:"
   ]
  },
  {
   "cell_type": "code",
   "execution_count": 9,
   "id": "3ceaab41",
   "metadata": {},
   "outputs": [
    {
     "name": "stdout",
     "output_type": "stream",
     "text": [
      "Initial condition: [1. 0.]\n"
     ]
    }
   ],
   "source": [
    "import jax.numpy as jnp\n",
    "\n",
    "initial_condition = jnp.array([1.0, 0.0])\n",
    "\n",
    "print(\"Initial condition:\", initial_condition)"
   ]
  },
  {
   "cell_type": "markdown",
   "id": "cdb22b43-6a99-4682-aa16-a05ef3afe583",
   "metadata": {},
   "source": [
    "## Use JAX Autodiff to Obtain Symplectic Form\n",
    "\n",
    "Thanks to auto differentiation in JAX, we can obtain the gradient of the Hamiltonian `harmonic_oscillator.H()` using the `jax.grad` function and pass it to the `symplectic_form` defined in `utils.py` (please have a look!).\n",
    "\n",
    "We can define this behaviour within the function `grad_x` which we can then pass to the ODE solver to solve the system."
   ]
  },
  {
   "cell_type": "code",
   "execution_count": 4,
   "id": "3194dba7",
   "metadata": {},
   "outputs": [],
   "source": [
    "import jax\n",
    "\n",
    "from hdynamics.utils import symplectic_form\n",
    "\n",
    "jac_h = jax.grad(lambda x: harmonic_oscillator.H(x, eps=0))\n",
    "\n",
    "def grad_x(x, t):\n",
    "    \"\"\"Compute the symplectic gradient of the Hamiltonian at state x and time t.\n",
    "\n",
    "    Args:\n",
    "        x: State vector.\n",
    "        t: Time (unused, included for compatibility with ODE solvers).\n",
    "\n",
    "    Returns:\n",
    "        The symplectic gradient at x.\n",
    "    \"\"\"\n",
    "    return symplectic_form(jac_h(x))"
   ]
  },
  {
   "cell_type": "markdown",
   "id": "33311972-d5d6-450f-8c5c-94802e5279f1",
   "metadata": {},
   "source": [
    "## Generate trajectory\n",
    "\n",
    "Next, we can generate a trajectory by by passing the initial condition and `grad_x` (which calculates the gradient) to the the function `ode_int` from `odeint.py`. This uses the function `jax.experimental.ode.odeint` to integrate the system of equations defined by the Hamiltonian, and solve the equations as a function of time."
   ]
  },
  {
   "cell_type": "code",
   "execution_count": null,
   "id": "0aa9ce36",
   "metadata": {},
   "outputs": [],
   "source": [
    "import jax.numpy as jnp\n",
    "\n",
    "from hdynamics.odeint import ode_int\n",
    "\n",
    "\n",
    "def generate_trajectory(grad_x, x_start, stepsize=0.04, n_steps=100):\n",
    "    \"\"\"Generate a trajectory for a dynamical system using an ODE solver.\n",
    "\n",
    "    Args:\n",
    "        grad_x: Function that computes the symplectic gradient of the Hamiltonian.\n",
    "        x_start: Initial state vector.\n",
    "        stepsize: Time step size.\n",
    "        n_steps: Number of steps to simulate.\n",
    "\n",
    "    Returns:\n",
    "        solution: Array of system states over time.\n",
    "        t_span: Array of time points corresponding to the trajectory.\n",
    "    \"\"\"\n",
    "    t_start = 0.0\n",
    "    t_end = n_steps * stepsize\n",
    "\n",
    "    t_span = jnp.linspace(t_start, t_end, n_steps + 1)\n",
    "\n",
    "    solution = ode_int(grad_x, x_start, t_span)\n",
    "\n",
    "    return solution, t_span\n",
    "\n",
    "trajectory, t_span = generate_trajectory(grad_x, initial_condition)\n",
    "print('trajectory:', trajectory.shape)"
   ]
  },
  {
   "cell_type": "markdown",
   "id": "151fe588-48c1-40f4-8feb-5bc2db4aeb18",
   "metadata": {},
   "source": [
    "## Plotting trajectory\n",
    "\n",
    "Lastly, we can plot the trajectory of the dynamical system by calling the `plot_trajectory()` and `plot_phase_energy` methods of the `HarmonicOscillator` class, which plots the trajectory of the system."
   ]
  },
  {
   "cell_type": "code",
   "execution_count": 15,
   "id": "4371ee38",
   "metadata": {},
   "outputs": [
    {
     "data": {
      "image/png": "[encoded data removed]",
      "text/plain": [
       "<Figure size 640x480 with 1 Axes>"
      ]
     },
     "metadata": {},
     "output_type": "display_data"
    }
   ],
   "source": [
    "import matplotlib.pyplot as plt\n",
    "\n",
    "fig, ax = plt.subplots(1, 1)\n",
    "\n",
    "harmonic_oscillator.plot_trajectory(trajectory, t_span, ax)"
   ]
  }
 ],
 "metadata": {
  "kernelspec": {
   "display_name": ".venv",
   "language": "python",
   "name": "python3"
  },
  "language_info": {
   "codemirror_mode": {
    "name": "ipython",
    "version": 3
   },
   "file_extension": ".py",
   "mimetype": "text/x-python",
   "name": "python",
   "nbconvert_exporter": "python",
   "pygments_lexer": "ipython3",
   "version": "3.13.3"
  }
 },
 "nbformat": 4,
 "nbformat_minor": 5
}
