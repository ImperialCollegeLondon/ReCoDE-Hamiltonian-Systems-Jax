{
 "cells": [
  {
   "cell_type": "markdown",
   "id": "49783201-c68e-49a3-9136-85c41abfd044",
   "metadata": {},
   "source": [
    "# Simple harmonic oscillator"
   ]
  },
  {
   "cell_type": "markdown",
   "id": "8ee3504b-07c4-4f3e-bf7f-95e92a8f2806",
   "metadata": {},
   "source": [
    "### Simple Harmonic Oscillator\n",
    "\n",
    "For a mass $m$ attached to a spring with spring constant $k$, and ignoring damping, the Hamiltonian is:\n",
    "\n",
    "\\[ H = \\frac{p^2}{2m} + \\frac{1}{2} k q^2 \\]\n",
    "\n",
    "The resulting Hamilton's equations are:\n",
    "\n",
    "$ \\dot{q} = \\frac{p}{m} $\n",
    "$ \\dot{p} = -kq $\n",
    "\n",
    "### Next chapter\n",
    "\n",
    "In the next chapter <a href=\"../04Simulating-and-visualising-trajectories/\">Simulating and visualising trajectories</a>, we will start simulating the Hamiltonian system over time and see how we can visualise results."
   ]
  }
 ],
 "metadata": {
  "kernelspec": {
   "display_name": "Python 3 (ipykernel)",
   "language": "python",
   "name": "python3"
  },
  "language_info": {
   "codemirror_mode": {
    "name": "ipython",
    "version": 3
   },
   "file_extension": ".py",
   "mimetype": "text/x-python",
   "name": "python",
   "nbconvert_exporter": "python",
   "pygments_lexer": "ipython3",
   "version": "3.11.7"
  }
 },
 "nbformat": 4,
 "nbformat_minor": 5
}
