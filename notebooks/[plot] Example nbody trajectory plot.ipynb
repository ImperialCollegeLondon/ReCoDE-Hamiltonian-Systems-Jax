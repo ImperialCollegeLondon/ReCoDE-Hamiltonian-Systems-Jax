{
 "cells": [
  {
   "cell_type": "code",
   "execution_count": null,
   "id": "749db49d",
   "metadata": {},
   "outputs": [],
   "source": [
    "import os\n",
    "if 'notebooks' not in os.listdir():\n",
    "    os.chdir('..')"
   ]
  },
  {
   "cell_type": "code",
   "execution_count": null,
   "id": "f3b8f71e",
   "metadata": {},
   "outputs": [],
   "source": [
    "import jax\n",
    "import jax.numpy as jnp\n",
    "\n",
    "from hdynamics import hdynamics\n",
    "from hdynamics.odeint import ode_int\n",
    "from hdynamics.utils import symplectic_form"
   ]
  },
  {
   "cell_type": "code",
   "execution_count": null,
   "id": "035809f6",
   "metadata": {},
   "outputs": [],
   "source": [
    "dim = 2\n",
    "n_bodies = 2\n",
    "\n",
    "nbody = hdynamics.Nbody(dim, n_bodies, masses=[100.0, 1.0])"
   ]
  },
  {
   "cell_type": "code",
   "execution_count": null,
   "id": "3ceaab41",
   "metadata": {},
   "outputs": [],
   "source": [
    "key = jax.random.PRNGKey(2)\n",
    "\n",
    "x = nbody.initial_phase(key)\n",
    "print(x.shape)"
   ]
  },
  {
   "cell_type": "code",
   "execution_count": null,
   "id": "5d9bca82",
   "metadata": {},
   "outputs": [],
   "source": [
    "x_flat = x.reshape(-1)"
   ]
  },
  {
   "cell_type": "code",
   "execution_count": null,
   "id": "3194dba7",
   "metadata": {},
   "outputs": [],
   "source": [
    "jac_h = jax.grad(lambda x: nbody.H(x, eps=0))\n",
    "\n",
    "grad_x = lambda x, t: symplectic_form(jac_h(x))"
   ]
  },
  {
   "cell_type": "code",
   "execution_count": null,
   "id": "0aa9ce36",
   "metadata": {},
   "outputs": [],
   "source": [
    "def generate_trajectory(grad_x, x_start, stepsize=0.04, n_steps=100):\n",
    "    t_start = 0.0\n",
    "    t_end = n_steps * stepsize\n",
    "\n",
    "    t_span = jnp.linspace(t_start, t_end, n_steps + 1)\n",
    "\n",
    "    solution = ode_int(grad_x, x_start, t_span, backend='experimental', atol=1e-10, rtol=1e-10)\n",
    "\n",
    "    return solution, t_span"
   ]
  },
  {
   "cell_type": "code",
   "execution_count": null,
   "id": "731bea69",
   "metadata": {},
   "outputs": [],
   "source": [
    "trajectory, t_span = generate_trajectory(grad_x, x_flat)\n",
    "print('trajectory:', trajectory.shape)"
   ]
  },
  {
   "cell_type": "code",
   "execution_count": 9,
   "id": "4371ee38",
   "metadata": {
    "scrolled": false
   },
   "outputs": [
    {
     "data": {
      "image/png": "[encoded data removed]",
      "text/plain": [
       "<Figure size 640x480 with 1 Axes>"
      ]
     },
     "metadata": {},
     "output_type": "display_data"
    }
   ],
   "source": [
    "import matplotlib.pyplot as plt\n",
    "\n",
    "fig = plt.figure()\n",
    "ax = fig.add_subplot(111)\n",
    "\n",
    "nbody.plot_trajectory(trajectory, t_span, ax)"
   ]
  },
  {
   "cell_type": "code",
   "execution_count": null,
   "id": "9c88ff6c",
   "metadata": {},
   "outputs": [],
   "source": []
  },
  {
   "cell_type": "code",
   "execution_count": null,
   "id": "db296f50",
   "metadata": {},
   "outputs": [],
   "source": []
  },
  {
   "cell_type": "code",
   "execution_count": null,
   "id": "77bd2cd3",
   "metadata": {},
   "outputs": [],
   "source": []
  }
 ],
 "metadata": {
  "kernelspec": {
   "display_name": "Python 3 (ipykernel)",
   "language": "python",
   "name": "python3"
  },
  "language_info": {
   "codemirror_mode": {
    "name": "ipython",
    "version": 3
   },
   "file_extension": ".py",
   "mimetype": "text/x-python",
   "name": "python",
   "nbconvert_exporter": "python",
   "pygments_lexer": "ipython3",
   "version": "3.11.5"
  }
 },
 "nbformat": 4,
 "nbformat_minor": 5
}
